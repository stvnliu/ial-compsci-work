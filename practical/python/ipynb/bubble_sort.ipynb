{
 "cells": [
  {
   "cell_type": "markdown",
   "metadata": {},
   "source": [
    "# Bubble sort\n",
    "Bubble sort works by combining the following procedures:\n",
    "1. For each element in the array: Swap if not in correct order -> Set variable swapped = True;\n",
    "2. Go to the next iteration, each time the end index is decremented by 1 since the last element in the array each time will be in the correct position;\n",
    "3. Go to 1 until Swapped variable is not changed for an entire iteration of the array."
   ]
  },
  {
   "cell_type": "code",
   "execution_count": 9,
   "metadata": {},
   "outputs": [
    {
     "name": "stdout",
     "output_type": "stream",
     "text": [
      "[24, 25, 32, 38, 52, 53, 69, 82, 91, 96]\n"
     ]
    }
   ],
   "source": [
    "import random\n",
    "def generate_test_seq(length: int):\n",
    "    arr = []\n",
    "    for i in range(length):\n",
    "        arr.append(random.randint(0, 100))\n",
    "    return arr\n",
    "def bubble_sort(arr: list):\n",
    "    n = len(arr)\n",
    "    swapped = False\n",
    "    for i in range(n-1):\n",
    "        for j in range(n-i-1):\n",
    "            if arr[j] > arr[j+1]:\n",
    "                swp = arr[j]\n",
    "                arr[j] = arr[j+1]\n",
    "                arr[j+1] = swp\n",
    "                swapped = True\n",
    "        if not swapped:\n",
    "            return\n",
    "arr = generate_test_seq(10)\n",
    "bubble_sort(arr)\n",
    "print(arr)"
   ]
  }
 ],
 "metadata": {
  "kernelspec": {
   "display_name": "Python 3",
   "language": "python",
   "name": "python3"
  },
  "language_info": {
   "codemirror_mode": {
    "name": "ipython",
    "version": 3
   },
   "file_extension": ".py",
   "mimetype": "text/x-python",
   "name": "python",
   "nbconvert_exporter": "python",
   "pygments_lexer": "ipython3",
   "version": "3.11.6"
  }
 },
 "nbformat": 4,
 "nbformat_minor": 2
}
